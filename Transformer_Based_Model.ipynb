{
  "nbformat": 4,
  "nbformat_minor": 0,
  "metadata": {
    "colab": {
      "provenance": []
    },
    "kernelspec": {
      "name": "python3",
      "display_name": "Python 3"
    },
    "language_info": {
      "name": "python"
    }
  },
  "cells": [
    {
      "cell_type": "code",
      "execution_count": 5,
      "metadata": {
        "id": "-QLryh8AdcOX"
      },
      "outputs": [],
      "source": [
        "#pip install transformers"
      ]
    },
    {
      "cell_type": "markdown",
      "source": [
        "Transformer Based Model"
      ],
      "metadata": {
        "id": "Q8IrSOPZezam"
      }
    },
    {
      "cell_type": "markdown",
      "source": [
        "This is based on the pre-trained model from Hugging Face, an open source AI community."
      ],
      "metadata": {
        "id": "likCBS-0fl0z"
      }
    },
    {
      "cell_type": "code",
      "source": [
        "import transformers"
      ],
      "metadata": {
        "id": "vTR6mWrjdm23"
      },
      "execution_count": 6,
      "outputs": []
    },
    {
      "cell_type": "code",
      "source": [
        "from transformers import pipeline\n",
        "sentiment_pipeline = pipeline(\"sentiment-analysis\")\n",
        "data = [\"It was the best experience.\", \"It was the bad experience.\"]\n",
        "sentiment_pipeline(data)"
      ],
      "metadata": {
        "colab": {
          "base_uri": "https://localhost:8080/"
        },
        "id": "fPyg9TxKdupA",
        "outputId": "139c69e4-aa28-40e0-e0e7-8d19756ef1ed"
      },
      "execution_count": 7,
      "outputs": [
        {
          "output_type": "stream",
          "name": "stderr",
          "text": [
            "No model was supplied, defaulted to distilbert-base-uncased-finetuned-sst-2-english and revision af0f99b (https://huggingface.co/distilbert-base-uncased-finetuned-sst-2-english).\n",
            "Using a pipeline without specifying a model name and revision in production is not recommended.\n"
          ]
        },
        {
          "output_type": "execute_result",
          "data": {
            "text/plain": [
              "[{'label': 'POSITIVE', 'score': 0.9998051524162292},\n",
              " {'label': 'NEGATIVE', 'score': 0.9997841715812683}]"
            ]
          },
          "metadata": {},
          "execution_count": 7
        }
      ]
    },
    {
      "cell_type": "markdown",
      "source": [
        "By default, distilbert-base-uncased-finetuned-sst-2-english has been applied if not mentioning the model.\n",
        "\n",
        "Also, the model predicts the above texts as Positive and Negative."
      ],
      "metadata": {
        "id": "ZV48AEXggGQT"
      }
    },
    {
      "cell_type": "code",
      "source": [],
      "metadata": {
        "id": "uWvt1XKHeKdq"
      },
      "execution_count": null,
      "outputs": []
    }
  ]
}